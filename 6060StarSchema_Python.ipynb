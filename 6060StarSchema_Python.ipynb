{
 "cells": [
  {
   "cell_type": "code",
   "execution_count": 4,
   "id": "abd00566-c5bb-45a7-a376-7882781393ab",
   "metadata": {},
   "outputs": [
    {
     "name": "stdout",
     "output_type": "stream",
     "text": [
      "Requirement already satisfied: sqlalchemy in c:\\users\\henry\\anaconda3\\lib\\site-packages (2.0.25)\n",
      "Requirement already satisfied: typing-extensions>=4.6.0 in c:\\users\\henry\\anaconda3\\lib\\site-packages (from sqlalchemy) (4.9.0)\n",
      "Requirement already satisfied: greenlet!=0.4.17 in c:\\users\\henry\\anaconda3\\lib\\site-packages (from sqlalchemy) (3.0.1)\n",
      "Note: you may need to restart the kernel to use updated packages.\n"
     ]
    }
   ],
   "source": [
    "pip install sqlalchemy"
   ]
  },
  {
   "cell_type": "code",
   "execution_count": 7,
   "id": "66efe893-072a-4005-9eb1-4f0893020a14",
   "metadata": {},
   "outputs": [
    {
     "name": "stdout",
     "output_type": "stream",
     "text": [
      "Collecting mysql-connector-python\n",
      "  Downloading mysql_connector_python-8.3.0-cp311-cp311-win_amd64.whl.metadata (2.0 kB)\n",
      "Downloading mysql_connector_python-8.3.0-cp311-cp311-win_amd64.whl (15.4 MB)\n",
      "   ---------------------------------------- 0.0/15.4 MB ? eta -:--:--\n",
      "   ---------------------------------------- 0.0/15.4 MB ? eta -:--:--\n",
      "   ---------------------------------------- 0.0/15.4 MB ? eta -:--:--\n",
      "   ---------------------------------------- 0.0/15.4 MB 165.2 kB/s eta 0:01:34\n",
      "   ---------------------------------------- 0.0/15.4 MB 187.9 kB/s eta 0:01:22\n",
      "   ---------------------------------------- 0.0/15.4 MB 219.4 kB/s eta 0:01:11\n",
      "   ---------------------------------------- 0.1/15.4 MB 403.5 kB/s eta 0:00:38\n",
      "   ---------------------------------------- 0.2/15.4 MB 696.3 kB/s eta 0:00:22\n",
      "    --------------------------------------- 0.3/15.4 MB 930.9 kB/s eta 0:00:17\n",
      "   - -------------------------------------- 0.4/15.4 MB 1.1 MB/s eta 0:00:14\n",
      "   - -------------------------------------- 0.5/15.4 MB 1.3 MB/s eta 0:00:12\n",
      "   - -------------------------------------- 0.6/15.4 MB 1.3 MB/s eta 0:00:12\n",
      "   - -------------------------------------- 0.7/15.4 MB 1.5 MB/s eta 0:00:11\n",
      "   -- ------------------------------------- 0.9/15.4 MB 1.6 MB/s eta 0:00:10\n",
      "   -- ------------------------------------- 1.0/15.4 MB 1.7 MB/s eta 0:00:09\n",
      "   -- ------------------------------------- 1.1/15.4 MB 1.8 MB/s eta 0:00:08\n",
      "   --- ------------------------------------ 1.2/15.4 MB 1.8 MB/s eta 0:00:08\n",
      "   --- ------------------------------------ 1.4/15.4 MB 1.9 MB/s eta 0:00:08\n",
      "   --- ------------------------------------ 1.5/15.4 MB 2.0 MB/s eta 0:00:08\n",
      "   ---- ----------------------------------- 1.7/15.4 MB 2.1 MB/s eta 0:00:07\n",
      "   ---- ----------------------------------- 1.8/15.4 MB 2.1 MB/s eta 0:00:07\n",
      "   ----- ---------------------------------- 2.0/15.4 MB 2.2 MB/s eta 0:00:07\n",
      "   ----- ---------------------------------- 2.2/15.4 MB 2.2 MB/s eta 0:00:06\n",
      "   ------ --------------------------------- 2.3/15.4 MB 2.3 MB/s eta 0:00:06\n",
      "   ------ --------------------------------- 2.5/15.4 MB 2.4 MB/s eta 0:00:06\n",
      "   ------- -------------------------------- 2.7/15.4 MB 2.5 MB/s eta 0:00:06\n",
      "   ------- -------------------------------- 2.9/15.4 MB 2.6 MB/s eta 0:00:05\n",
      "   -------- ------------------------------- 3.1/15.4 MB 2.6 MB/s eta 0:00:05\n",
      "   -------- ------------------------------- 3.3/15.4 MB 2.7 MB/s eta 0:00:05\n",
      "   --------- ------------------------------ 3.6/15.4 MB 2.8 MB/s eta 0:00:05\n",
      "   --------- ------------------------------ 3.8/15.4 MB 2.9 MB/s eta 0:00:05\n",
      "   ---------- ----------------------------- 4.0/15.4 MB 2.9 MB/s eta 0:00:04\n",
      "   ----------- ---------------------------- 4.2/15.4 MB 3.0 MB/s eta 0:00:04\n",
      "   ----------- ---------------------------- 4.5/15.4 MB 3.1 MB/s eta 0:00:04\n",
      "   ------------ --------------------------- 4.8/15.4 MB 3.1 MB/s eta 0:00:04\n",
      "   ------------- -------------------------- 5.1/15.4 MB 3.2 MB/s eta 0:00:04\n",
      "   ------------- -------------------------- 5.3/15.4 MB 3.3 MB/s eta 0:00:04\n",
      "   -------------- ------------------------- 5.6/15.4 MB 3.4 MB/s eta 0:00:03\n",
      "   --------------- ------------------------ 5.9/15.4 MB 3.4 MB/s eta 0:00:03\n",
      "   --------------- ------------------------ 6.1/15.4 MB 3.5 MB/s eta 0:00:03\n",
      "   ---------------- ----------------------- 6.4/15.4 MB 3.6 MB/s eta 0:00:03\n",
      "   ----------------- ---------------------- 6.6/15.4 MB 3.6 MB/s eta 0:00:03\n",
      "   ------------------ --------------------- 7.0/15.4 MB 3.7 MB/s eta 0:00:03\n",
      "   ------------------ --------------------- 7.3/15.4 MB 3.8 MB/s eta 0:00:03\n",
      "   ------------------- -------------------- 7.5/15.4 MB 3.8 MB/s eta 0:00:03\n",
      "   -------------------- ------------------- 7.8/15.4 MB 3.9 MB/s eta 0:00:02\n",
      "   --------------------- ------------------ 8.1/15.4 MB 3.9 MB/s eta 0:00:02\n",
      "   --------------------- ------------------ 8.4/15.4 MB 4.0 MB/s eta 0:00:02\n",
      "   ---------------------- ----------------- 8.8/15.4 MB 4.1 MB/s eta 0:00:02\n",
      "   ----------------------- ---------------- 9.1/15.4 MB 4.1 MB/s eta 0:00:02\n",
      "   ------------------------ --------------- 9.5/15.4 MB 4.2 MB/s eta 0:00:02\n",
      "   ------------------------- -------------- 9.8/15.4 MB 4.3 MB/s eta 0:00:02\n",
      "   -------------------------- ------------- 10.2/15.4 MB 4.3 MB/s eta 0:00:02\n",
      "   --------------------------- ------------ 10.5/15.4 MB 4.9 MB/s eta 0:00:02\n",
      "   ---------------------------- ----------- 10.9/15.4 MB 5.2 MB/s eta 0:00:01\n",
      "   ----------------------------- ---------- 11.4/15.4 MB 5.5 MB/s eta 0:00:01\n",
      "   ------------------------------ --------- 11.7/15.4 MB 5.7 MB/s eta 0:00:01\n",
      "   ------------------------------- -------- 12.1/15.4 MB 6.0 MB/s eta 0:00:01\n",
      "   -------------------------------- ------- 12.5/15.4 MB 6.2 MB/s eta 0:00:01\n",
      "   --------------------------------- ------ 12.8/15.4 MB 6.4 MB/s eta 0:00:01\n",
      "   ---------------------------------- ----- 13.2/15.4 MB 6.5 MB/s eta 0:00:01\n",
      "   ----------------------------------- ---- 13.6/15.4 MB 6.7 MB/s eta 0:00:01\n",
      "   ------------------------------------ --- 13.9/15.4 MB 6.8 MB/s eta 0:00:01\n",
      "   ------------------------------------- -- 14.3/15.4 MB 6.9 MB/s eta 0:00:01\n",
      "   -------------------------------------- - 14.6/15.4 MB 7.0 MB/s eta 0:00:01\n",
      "   -------------------------------------- - 15.0/15.4 MB 7.1 MB/s eta 0:00:01\n",
      "   ---------------------------------------  15.4/15.4 MB 7.2 MB/s eta 0:00:01\n",
      "   ---------------------------------------  15.4/15.4 MB 7.2 MB/s eta 0:00:01\n",
      "   ---------------------------------------  15.4/15.4 MB 7.2 MB/s eta 0:00:01\n",
      "   ---------------------------------------- 15.4/15.4 MB 6.7 MB/s eta 0:00:00\n",
      "Installing collected packages: mysql-connector-python\n",
      "Successfully installed mysql-connector-python-8.3.0\n",
      "Note: you may need to restart the kernel to use updated packages.\n"
     ]
    }
   ],
   "source": [
    "pip install mysql-connector-python"
   ]
  },
  {
   "cell_type": "code",
   "execution_count": 1,
   "id": "49fa24b3-62a6-4514-9850-e67aed673d5b",
   "metadata": {},
   "outputs": [],
   "source": [
    "# get the required modules\n",
    "\n",
    "from sqlalchemy import create_engine    # sqlalchemy connector\n",
    "import os                               # get the environment variables\n",
    "import pandas as pd                     # get the pandas"
   ]
  },
  {
   "cell_type": "code",
   "execution_count": 2,
   "id": "06585c63-17df-418e-87d6-76992cd1f0c2",
   "metadata": {},
   "outputs": [],
   "source": [
    "# Access environment variables\n",
    "\n",
    "MYSQL_HOST = 'tinabrauneck.lmu.build'\n",
    "MYSQL_USER = 'tinabrau_project_team'\n",
    "MYSQL_PASSWORD = 'BSAN6060NCAA'\n",
    "MYSQL_DB = 'tinabrau_NCAA'\n",
    "\n",
    "aws_write = create_engine(f'mysql+mysqlconnector://{MYSQL_USER}:{MYSQL_PASSWORD}@{MYSQL_HOST}/{MYSQL_DB}')"
   ]
  },
  {
   "cell_type": "code",
   "execution_count": 7,
   "id": "175a869a-ae9a-47c2-bd98-ff53c221ab41",
   "metadata": {},
   "outputs": [],
   "source": [
    "fr_data = '''\n",
    "SELECT \n",
    "    h.year,\n",
    "    h.unitid,\n",
    "    h.SPORTSCODE,\n",
    "    h.PARTIC_MEN,\n",
    "    h.PARTIC_WOMEN,\n",
    "    h.SUM_PARTIC_MEN,\n",
    "    h.SUM_PARTIC_WOMEN,\n",
    "    h.MEN_TOTAL_HEADCOACH,\n",
    "    h.WOMEN_TOTAL_HDCOACH,\n",
    "    h.COED_TOTAL_HDCOACH,\n",
    "    h.SUM_TOTAL_HDCOACH,\n",
    "    h.MEN_TOTAL_ASSTCOACH,\n",
    "    h.WOMEN_TOTAL_ASTCOACH,\n",
    "    h.COED_TOTAL_ASTCOACH,\n",
    "    h.SUM_TOTAL_ASSTCOACH\n",
    "FROM \n",
    "    Headcounts h;\n",
    "'''"
   ]
  },
  {
   "cell_type": "code",
   "execution_count": 8,
   "id": "a3c25f52-c850-40b6-8ad7-6b9fe13e619e",
   "metadata": {},
   "outputs": [],
   "source": [
    "# read the data into a dataframe\n",
    "df = pd.read_sql_query(fr_data, con = aws_write)"
   ]
  },
  {
   "cell_type": "code",
   "execution_count": 11,
   "id": "d94f58a3-6378-4d8b-8edd-574c02d77e24",
   "metadata": {},
   "outputs": [
    {
     "data": {
      "text/plain": [
       "215440"
      ]
     },
     "execution_count": 11,
     "metadata": {},
     "output_type": "execute_result"
    }
   ],
   "source": [
    "df.to_sql(name='fact_headcountss', con=aws_write, if_exists='replace', index=False)"
   ]
  }
 ],
 "metadata": {
  "kernelspec": {
   "display_name": "Python 3 (ipykernel)",
   "language": "python",
   "name": "python3"
  },
  "language_info": {
   "codemirror_mode": {
    "name": "ipython",
    "version": 3
   },
   "file_extension": ".py",
   "mimetype": "text/x-python",
   "name": "python",
   "nbconvert_exporter": "python",
   "pygments_lexer": "ipython3",
   "version": "3.11.7"
  }
 },
 "nbformat": 4,
 "nbformat_minor": 5
}
